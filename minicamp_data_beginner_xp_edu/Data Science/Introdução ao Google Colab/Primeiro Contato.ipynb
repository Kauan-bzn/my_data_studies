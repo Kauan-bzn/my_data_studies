{
  "nbformat": 4,
  "nbformat_minor": 0,
  "metadata": {
    "colab": {
      "provenance": []
    },
    "kernelspec": {
      "name": "python3",
      "display_name": "Python 3"
    },
    "language_info": {
      "name": "python"
    }
  },
  "cells": [
    {
      "cell_type": "markdown",
      "source": [
        "# Introdução ao COLAB"
      ],
      "metadata": {
        "id": "khGDI-oBwBWY"
      }
    },
    {
      "cell_type": "markdown",
      "source": [
        "## Demonstração"
      ],
      "metadata": {
        "id": "NfZvvE5SwV10"
      }
    },
    {
      "cell_type": "code",
      "source": [
        "a = 3\n",
        "b = 4\n",
        "\n",
        "a + b"
      ],
      "metadata": {
        "colab": {
          "base_uri": "https://localhost:8080/"
        },
        "id": "5tosrFTIwNOR",
        "outputId": "e262a7f5-0ffb-4448-84f5-df2bbc1f5530"
      },
      "execution_count": null,
      "outputs": [
        {
          "output_type": "execute_result",
          "data": {
            "text/plain": [
              "7"
            ]
          },
          "metadata": {},
          "execution_count": 2
        }
      ]
    },
    {
      "cell_type": "markdown",
      "source": [
        "### Criando funções"
      ],
      "metadata": {
        "id": "BKrn2o0jwf_1"
      }
    },
    {
      "cell_type": "code",
      "source": [
        "def soma(numero1, numero2):\n",
        "  resultado = numero1 + numero2\n",
        "  return print(f'resultado = {resultado}')"
      ],
      "metadata": {
        "id": "eHfkVVHPwfDW"
      },
      "execution_count": null,
      "outputs": []
    },
    {
      "cell_type": "code",
      "source": [
        "def multiplica(numero1, numero2):\n",
        "  resultado = numero1 * numero2\n",
        "  return print(f'resultado = {resultado}')"
      ],
      "metadata": {
        "id": "chjY7uvWxE3Q"
      },
      "execution_count": null,
      "outputs": []
    },
    {
      "cell_type": "code",
      "source": [
        "soma(2,8)"
      ],
      "metadata": {
        "colab": {
          "base_uri": "https://localhost:8080/"
        },
        "id": "bco1qOAmwv-Q",
        "outputId": "2e88f7f0-cbec-4532-a61a-5e72487e1710"
      },
      "execution_count": null,
      "outputs": [
        {
          "output_type": "stream",
          "name": "stdout",
          "text": [
            "resultado = 10\n"
          ]
        }
      ]
    },
    {
      "cell_type": "code",
      "source": [
        "a = 15\n",
        "b = 2\n",
        "multiplica(a,b)"
      ],
      "metadata": {
        "colab": {
          "base_uri": "https://localhost:8080/"
        },
        "id": "xBbZS1tyxL9s",
        "outputId": "2d8fab61-a273-4abc-d30d-24f480c85b12"
      },
      "execution_count": null,
      "outputs": [
        {
          "output_type": "stream",
          "name": "stdout",
          "text": [
            "resultado = 30\n"
          ]
        }
      ]
    }
  ]
}
